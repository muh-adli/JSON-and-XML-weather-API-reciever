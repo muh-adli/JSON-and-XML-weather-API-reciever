{
 "cells": [
  {
   "cell_type": "markdown",
   "metadata": {},
   "source": [
    "# Receiving weather API data and inserting into Database\n",
    "\n",
    "## This projects use following Libraries:\n",
    "- requests==2.31.0\n",
    "- pandas==2.1.4\n",
    "- geopandas==0.14.1\n",
    "- DateTime==5.4\n",
    "- matplotlib==3.8.2\n",
    "- folium==0.15.1\n",
    "- mapclassify==2.6.1\n"
   ]
  },
  {
   "cell_type": "code",
   "execution_count": 1,
   "metadata": {},
   "outputs": [],
   "source": [
    "import os\n",
    "import requests\n",
    "import pandas as pd\n",
    "import geopandas as gpd\n",
    "from geopandas import GeoDataFrame\n",
    "import datetime\n",
    "import matplotlib.pyplot as plt\n",
    "import numpy as np\n",
    "import json"
   ]
  },
  {
   "cell_type": "markdown",
   "metadata": {},
   "source": [
    "## API KEY From https://openweathermap.org/"
   ]
  },
  {
   "cell_type": "code",
   "execution_count": 2,
   "metadata": {},
   "outputs": [],
   "source": [
    "API_KEY = \"a3a03b31b2fcfa0091ebdd5bcd9eaabe\""
   ]
  },
  {
   "cell_type": "markdown",
   "metadata": {},
   "source": [
    "## Make variable to input city name"
   ]
  },
  {
   "cell_type": "code",
   "execution_count": 3,
   "metadata": {},
   "outputs": [],
   "source": [
    "# city = input(\"Enter a city name: \")\n",
    "city = \"Jakarta\""
   ]
  },
  {
   "cell_type": "markdown",
   "metadata": {},
   "source": [
    "## Building code for getting API to JSON"
   ]
  },
  {
   "cell_type": "code",
   "execution_count": 4,
   "metadata": {},
   "outputs": [
    {
     "name": "stdout",
     "output_type": "stream",
     "text": [
      "Data Accepted.\n"
     ]
    }
   ],
   "source": [
    "BASE_URL = \"http://api.openweathermap.org/data/2.5/weather\"\n",
    "request_url = f\"{BASE_URL}?appid={API_KEY}&q={city}\"\n",
    "response = requests.get(request_url)\n",
    "\n",
    "if response.status_code == 200:\n",
    "    data = response.json()\n",
    "    print(\"Data Accepted.\")\n",
    "else:\n",
    "    print(\"An error occured.\")\n",
    "\n"
   ]
  },
  {
   "cell_type": "markdown",
   "metadata": {},
   "source": [
    "## Cleansing JSON Data"
   ]
  },
  {
   "cell_type": "code",
   "execution_count": 5,
   "metadata": {},
   "outputs": [
    {
     "name": "stdout",
     "output_type": "stream",
     "text": [
      "{'coord': {'lon': 106.8451, 'lat': -6.2146}, 'weather': [{'id': 211, 'main': 'Thunderstorm', 'description': 'thunderstorm', 'icon': '11d'}], 'base': 'stations', 'main': {'temp': 305.05, 'feels_like': 312.05, 'temp_min': 304.16, 'temp_max': 305.2, 'pressure': 1009, 'humidity': 68}, 'visibility': 5000, 'wind': {'speed': 3.09, 'deg': 360}, 'clouds': {'all': 75}, 'dt': 1703665227, 'sys': {'type': 1, 'id': 9383, 'country': 'ID', 'sunrise': 1703630328, 'sunset': 1703675259}, 'timezone': 25200, 'id': 1642911, 'name': 'Jakarta', 'cod': 200}\n"
     ]
    }
   ],
   "source": [
    "# analyze the response API data\n",
    "print(data)"
   ]
  },
  {
   "cell_type": "code",
   "execution_count": 6,
   "metadata": {},
   "outputs": [],
   "source": [
    "# Get Coordinate\n",
    "Lat = data['coord']['lat']\n",
    "Long = data['coord']['lon']\n",
    "\n",
    "# Convert Unix time to Datetime\n",
    "Date = str(datetime.datetime.fromtimestamp(data['dt']).strftime('%Y-%m-%d %H:%M:%S'))\n",
    "\n",
    "# Get weather data\n",
    "City_Name = data['name']\n",
    "Temp_Avg = round(((data['main']['temp_max']+data['main']['temp_min'])/2)- 273.15,2)\n",
    "Pressure = data['main']['pressure']\n",
    "Humidity = data['main']['humidity']\n",
    "Wind_spd = data['wind']['speed']\n",
    "Wind_deg = data['wind']['deg']\n",
    "Cloud_Percent = data['clouds']['all']"
   ]
  },
  {
   "cell_type": "markdown",
   "metadata": {},
   "source": [
    "### Validating the data"
   ]
  },
  {
   "cell_type": "code",
   "execution_count": 7,
   "metadata": {},
   "outputs": [
    {
     "name": "stdout",
     "output_type": "stream",
     "text": [
      "After cleansing data from API.\n",
      "                  Date     City       Temp_Avg  Pressure Humidity  Wind_spd  \\\n",
      "0  2023-12-27 15:20:27  Jakarta  31.53 Celcius      1009     68 %      3.09   \n",
      "\n",
      "   Wind_deg Cloud      Long     Lat  \n",
      "0       360  75 %  106.8451 -6.2146  \n"
     ]
    }
   ],
   "source": [
    "Data_Clean = pd.DataFrame({\n",
    "    'Date': Date,\n",
    "    'City': City_Name,\n",
    "    'Temp_Avg': str(Temp_Avg) + \" Celcius\",\n",
    "    'Pressure': Pressure,\n",
    "    'Humidity': str(Humidity) + \" %\",\n",
    "    'Wind_spd': Wind_spd,\n",
    "    'Wind_deg': Wind_deg,\n",
    "    'Cloud': str(Cloud_Percent) + \" %\",\n",
    "    'Long': Long,\n",
    "    'Lat': Lat,}\n",
    "    , index=[0])\n",
    "\n",
    "print(\"After cleansing data from API.\")\n",
    "print(Data_Clean)"
   ]
  },
  {
   "cell_type": "markdown",
   "metadata": {},
   "source": [
    "### Visualize data from API"
   ]
  },
  {
   "cell_type": "code",
   "execution_count": 8,
   "metadata": {},
   "outputs": [
    {
     "name": "stderr",
     "output_type": "stream",
     "text": [
      "c:\\Project Coding\\Python\\weather API\\.venv\\Lib\\site-packages\\pyproj\\crs\\crs.py:141: FutureWarning: '+init=<authority>:<code>' syntax is deprecated. '<authority>:<code>' is the preferred initialization method. When making the change, be mindful of axis order changes: https://pyproj4.github.io/pyproj/stable/gotchas.html#axis-order-changes-in-proj-6\n",
      "  in_crs_string = _prepare_from_proj_string(in_crs_string)\n"
     ]
    },
    {
     "data": {
      "text/html": [
       "<div style=\"width:100%;\"><div style=\"position:relative;width:100%;height:0;padding-bottom:60%;\"><span style=\"color:#565656\">Make this Notebook Trusted to load map: File -> Trust Notebook</span><iframe srcdoc=\"&lt;!DOCTYPE html&gt;\n",
       "&lt;html&gt;\n",
       "&lt;head&gt;\n",
       "    \n",
       "    &lt;meta http-equiv=&quot;content-type&quot; content=&quot;text/html; charset=UTF-8&quot; /&gt;\n",
       "    \n",
       "        &lt;script&gt;\n",
       "            L_NO_TOUCH = false;\n",
       "            L_DISABLE_3D = false;\n",
       "        &lt;/script&gt;\n",
       "    \n",
       "    &lt;style&gt;html, body {width: 100%;height: 100%;margin: 0;padding: 0;}&lt;/style&gt;\n",
       "    &lt;style&gt;#map {position:absolute;top:0;bottom:0;right:0;left:0;}&lt;/style&gt;\n",
       "    &lt;script src=&quot;https://cdn.jsdelivr.net/npm/leaflet@1.9.3/dist/leaflet.js&quot;&gt;&lt;/script&gt;\n",
       "    &lt;script src=&quot;https://code.jquery.com/jquery-3.7.1.min.js&quot;&gt;&lt;/script&gt;\n",
       "    &lt;script src=&quot;https://cdn.jsdelivr.net/npm/bootstrap@5.2.2/dist/js/bootstrap.bundle.min.js&quot;&gt;&lt;/script&gt;\n",
       "    &lt;script src=&quot;https://cdnjs.cloudflare.com/ajax/libs/Leaflet.awesome-markers/2.0.2/leaflet.awesome-markers.js&quot;&gt;&lt;/script&gt;\n",
       "    &lt;link rel=&quot;stylesheet&quot; href=&quot;https://cdn.jsdelivr.net/npm/leaflet@1.9.3/dist/leaflet.css&quot;/&gt;\n",
       "    &lt;link rel=&quot;stylesheet&quot; href=&quot;https://cdn.jsdelivr.net/npm/bootstrap@5.2.2/dist/css/bootstrap.min.css&quot;/&gt;\n",
       "    &lt;link rel=&quot;stylesheet&quot; href=&quot;https://netdna.bootstrapcdn.com/bootstrap/3.0.0/css/bootstrap.min.css&quot;/&gt;\n",
       "    &lt;link rel=&quot;stylesheet&quot; href=&quot;https://cdn.jsdelivr.net/npm/@fortawesome/fontawesome-free@6.2.0/css/all.min.css&quot;/&gt;\n",
       "    &lt;link rel=&quot;stylesheet&quot; href=&quot;https://cdnjs.cloudflare.com/ajax/libs/Leaflet.awesome-markers/2.0.2/leaflet.awesome-markers.css&quot;/&gt;\n",
       "    &lt;link rel=&quot;stylesheet&quot; href=&quot;https://cdn.jsdelivr.net/gh/python-visualization/folium/folium/templates/leaflet.awesome.rotate.min.css&quot;/&gt;\n",
       "    \n",
       "            &lt;meta name=&quot;viewport&quot; content=&quot;width=device-width,\n",
       "                initial-scale=1.0, maximum-scale=1.0, user-scalable=no&quot; /&gt;\n",
       "            &lt;style&gt;\n",
       "                #map_080209823055cd7d0f3ca51eb3f27114 {\n",
       "                    position: relative;\n",
       "                    width: 100.0%;\n",
       "                    height: 100.0%;\n",
       "                    left: 0.0%;\n",
       "                    top: 0.0%;\n",
       "                }\n",
       "                .leaflet-container { font-size: 1rem; }\n",
       "            &lt;/style&gt;\n",
       "        \n",
       "    \n",
       "                    &lt;style&gt;\n",
       "                        .foliumtooltip {\n",
       "                            \n",
       "                        }\n",
       "                       .foliumtooltip table{\n",
       "                            margin: auto;\n",
       "                        }\n",
       "                        .foliumtooltip tr{\n",
       "                            text-align: left;\n",
       "                        }\n",
       "                        .foliumtooltip th{\n",
       "                            padding: 2px; padding-right: 8px;\n",
       "                        }\n",
       "                    &lt;/style&gt;\n",
       "            \n",
       "&lt;/head&gt;\n",
       "&lt;body&gt;\n",
       "    \n",
       "    \n",
       "            &lt;div class=&quot;folium-map&quot; id=&quot;map_080209823055cd7d0f3ca51eb3f27114&quot; &gt;&lt;/div&gt;\n",
       "        \n",
       "&lt;/body&gt;\n",
       "&lt;script&gt;\n",
       "    \n",
       "    \n",
       "            var map_080209823055cd7d0f3ca51eb3f27114 = L.map(\n",
       "                &quot;map_080209823055cd7d0f3ca51eb3f27114&quot;,\n",
       "                {\n",
       "                    center: [-6.2146, 106.8451],\n",
       "                    crs: L.CRS.EPSG3857,\n",
       "                    zoom: 10,\n",
       "                    zoomControl: true,\n",
       "                    preferCanvas: false,\n",
       "                }\n",
       "            );\n",
       "            L.control.scale().addTo(map_080209823055cd7d0f3ca51eb3f27114);\n",
       "\n",
       "            \n",
       "\n",
       "        \n",
       "    \n",
       "            var tile_layer_bc2d9d94575ff51e1f7953ec3c94a4c0 = L.tileLayer(\n",
       "                &quot;https://tile.openstreetmap.org/{z}/{x}/{y}.png&quot;,\n",
       "                {&quot;attribution&quot;: &quot;\\u0026copy; \\u003ca href=\\&quot;https://www.openstreetmap.org/copyright\\&quot;\\u003eOpenStreetMap\\u003c/a\\u003e contributors&quot;, &quot;detectRetina&quot;: false, &quot;maxNativeZoom&quot;: 19, &quot;maxZoom&quot;: 19, &quot;minZoom&quot;: 0, &quot;noWrap&quot;: false, &quot;opacity&quot;: 1, &quot;subdomains&quot;: &quot;abc&quot;, &quot;tms&quot;: false}\n",
       "            );\n",
       "        \n",
       "    \n",
       "            tile_layer_bc2d9d94575ff51e1f7953ec3c94a4c0.addTo(map_080209823055cd7d0f3ca51eb3f27114);\n",
       "        \n",
       "    \n",
       "            map_080209823055cd7d0f3ca51eb3f27114.fitBounds(\n",
       "                [[-6.2146, 106.8451], [-6.2146, 106.8451]],\n",
       "                {}\n",
       "            );\n",
       "        \n",
       "    \n",
       "        function geo_json_369e348fc0ffcb128f670d975007324f_styler(feature) {\n",
       "            switch(feature.id) {\n",
       "                default:\n",
       "                    return {&quot;fillOpacity&quot;: 0.5, &quot;weight&quot;: 2};\n",
       "            }\n",
       "        }\n",
       "        function geo_json_369e348fc0ffcb128f670d975007324f_highlighter(feature) {\n",
       "            switch(feature.id) {\n",
       "                default:\n",
       "                    return {&quot;fillOpacity&quot;: 0.75};\n",
       "            }\n",
       "        }\n",
       "        function geo_json_369e348fc0ffcb128f670d975007324f_pointToLayer(feature, latlng) {\n",
       "            var opts = {&quot;bubblingMouseEvents&quot;: true, &quot;color&quot;: &quot;#3388ff&quot;, &quot;dashArray&quot;: null, &quot;dashOffset&quot;: null, &quot;fill&quot;: true, &quot;fillColor&quot;: &quot;#3388ff&quot;, &quot;fillOpacity&quot;: 0.2, &quot;fillRule&quot;: &quot;evenodd&quot;, &quot;lineCap&quot;: &quot;round&quot;, &quot;lineJoin&quot;: &quot;round&quot;, &quot;opacity&quot;: 1.0, &quot;radius&quot;: 2, &quot;stroke&quot;: true, &quot;weight&quot;: 3};\n",
       "            \n",
       "            let style = geo_json_369e348fc0ffcb128f670d975007324f_styler(feature)\n",
       "            Object.assign(opts, style)\n",
       "            \n",
       "            return new L.CircleMarker(latlng, opts)\n",
       "        }\n",
       "\n",
       "        function geo_json_369e348fc0ffcb128f670d975007324f_onEachFeature(feature, layer) {\n",
       "            layer.on({\n",
       "                mouseout: function(e) {\n",
       "                    if(typeof e.target.setStyle === &quot;function&quot;){\n",
       "                        geo_json_369e348fc0ffcb128f670d975007324f.resetStyle(e.target);\n",
       "                    }\n",
       "                },\n",
       "                mouseover: function(e) {\n",
       "                    if(typeof e.target.setStyle === &quot;function&quot;){\n",
       "                        const highlightStyle = geo_json_369e348fc0ffcb128f670d975007324f_highlighter(e.target.feature)\n",
       "                        e.target.setStyle(highlightStyle);\n",
       "                    }\n",
       "                },\n",
       "            });\n",
       "        };\n",
       "        var geo_json_369e348fc0ffcb128f670d975007324f = L.geoJson(null, {\n",
       "                onEachFeature: geo_json_369e348fc0ffcb128f670d975007324f_onEachFeature,\n",
       "            \n",
       "                style: geo_json_369e348fc0ffcb128f670d975007324f_styler,\n",
       "                pointToLayer: geo_json_369e348fc0ffcb128f670d975007324f_pointToLayer,\n",
       "        });\n",
       "\n",
       "        function geo_json_369e348fc0ffcb128f670d975007324f_add (data) {\n",
       "            geo_json_369e348fc0ffcb128f670d975007324f\n",
       "                .addData(data);\n",
       "        }\n",
       "            geo_json_369e348fc0ffcb128f670d975007324f_add({&quot;bbox&quot;: [106.8451, -6.2146, 106.8451, -6.2146], &quot;features&quot;: [{&quot;bbox&quot;: [106.8451, -6.2146, 106.8451, -6.2146], &quot;geometry&quot;: {&quot;coordinates&quot;: [106.8451, -6.2146], &quot;type&quot;: &quot;Point&quot;}, &quot;id&quot;: &quot;0&quot;, &quot;properties&quot;: {&quot;City&quot;: &quot;Jakarta&quot;, &quot;Cloud&quot;: &quot;75 %&quot;, &quot;Date&quot;: &quot;2023-12-27 15:20:27&quot;, &quot;Humidity&quot;: &quot;68 %&quot;, &quot;Lat&quot;: -6.2146, &quot;Long&quot;: 106.8451, &quot;Pressure&quot;: 1009, &quot;Temp_Avg&quot;: &quot;31.53 Celcius&quot;, &quot;Wind_deg&quot;: 360, &quot;Wind_spd&quot;: 3.09}, &quot;type&quot;: &quot;Feature&quot;}], &quot;type&quot;: &quot;FeatureCollection&quot;});\n",
       "\n",
       "        \n",
       "    \n",
       "    geo_json_369e348fc0ffcb128f670d975007324f.bindTooltip(\n",
       "    function(layer){\n",
       "    let div = L.DomUtil.create(&#x27;div&#x27;);\n",
       "    \n",
       "    let handleObject = feature=&gt;typeof(feature)==&#x27;object&#x27; ? JSON.stringify(feature) : feature;\n",
       "    let fields = [&quot;Date&quot;, &quot;City&quot;, &quot;Temp_Avg&quot;, &quot;Pressure&quot;, &quot;Humidity&quot;, &quot;Wind_spd&quot;, &quot;Wind_deg&quot;, &quot;Cloud&quot;, &quot;Long&quot;, &quot;Lat&quot;];\n",
       "    let aliases = [&quot;Date&quot;, &quot;City&quot;, &quot;Temp_Avg&quot;, &quot;Pressure&quot;, &quot;Humidity&quot;, &quot;Wind_spd&quot;, &quot;Wind_deg&quot;, &quot;Cloud&quot;, &quot;Long&quot;, &quot;Lat&quot;];\n",
       "    let table = &#x27;&lt;table&gt;&#x27; +\n",
       "        String(\n",
       "        fields.map(\n",
       "        (v,i)=&gt;\n",
       "        `&lt;tr&gt;\n",
       "            &lt;th&gt;${aliases[i]}&lt;/th&gt;\n",
       "            \n",
       "            &lt;td&gt;${handleObject(layer.feature.properties[v])}&lt;/td&gt;\n",
       "        &lt;/tr&gt;`).join(&#x27;&#x27;))\n",
       "    +&#x27;&lt;/table&gt;&#x27;;\n",
       "    div.innerHTML=table;\n",
       "    \n",
       "    return div\n",
       "    }\n",
       "    ,{&quot;className&quot;: &quot;foliumtooltip&quot;, &quot;sticky&quot;: true});\n",
       "                     \n",
       "    \n",
       "            geo_json_369e348fc0ffcb128f670d975007324f.addTo(map_080209823055cd7d0f3ca51eb3f27114);\n",
       "        \n",
       "&lt;/script&gt;\n",
       "&lt;/html&gt;\" style=\"position:absolute;width:100%;height:100%;left:0;top:0;border:none !important;\" allowfullscreen webkitallowfullscreen mozallowfullscreen></iframe></div></div>"
      ],
      "text/plain": [
       "<folium.folium.Map at 0x1a7a84d1190>"
      ]
     },
     "execution_count": 8,
     "metadata": {},
     "output_type": "execute_result"
    }
   ],
   "source": [
    "# Location\n",
    "crs = {'init':'epsg:4326'}\n",
    "geo_data = Data_Clean\n",
    "Data_Clean['geometry'] = gpd.points_from_xy(Data_Clean['Long'], Data_Clean['Lat'])\n",
    "geo_data = gpd.GeoDataFrame(Data_Clean, crs=crs, geometry=Data_Clean['geometry'])\n",
    "geo_data.explore()\n",
    "# Wind Speed and direction\n",
    "\n",
    "# Temperature, Pressure, Humidity, and Cloud"
   ]
  },
  {
   "cell_type": "markdown",
   "metadata": {},
   "source": [
    "## inserting to Databases"
   ]
  },
  {
   "cell_type": "code",
   "execution_count": 9,
   "metadata": {},
   "outputs": [
    {
     "name": "stdout",
     "output_type": "stream",
     "text": [
      "DataFrame exported to JSON successfully.\n"
     ]
    }
   ],
   "source": [
    "# result = Data_Clean.to_json(r'datastorage\\weatherdata.json', orient='records', lines=True, default=str)\n",
    "\n",
    "# Convert the DataFrame to a dictionary and then to JSON\n",
    "if 'geometry' in Data_Clean.columns:\n",
    "    Data_Clean = pd.DataFrame(Data_Clean.drop(columns='geometry'))\n",
    "JSON_Data = Data_Clean.to_dict(orient='records')\n",
    "\n",
    "# Export JSON data to a file\n",
    "try:\n",
    "    file_path = 'datastorage/weatherdata.json'\n",
    "    # Checking weather data storage\n",
    "    if os.path.exists(file_path):\n",
    "        print(\"File exists. Appending data.\")\n",
    "        Data_Existing = pd.read_json(file_path)\n",
    "        JSON_Existing = Data_Existing.to_dict()\n",
    "        JSON_Concat = JSON_Existing.update(JSON_Data)\n",
    "\n",
    "        # Data_Existing = pd.read_json(file_path)\n",
    "        # print(Data_Existing)\n",
    "        # Data_Concat = pd.concat([Data_Existing, Data_Clean])\n",
    "        # print(Data_Concat)\n",
    "        # JSON_Concat = Data_Concat.to_dict(orient='records')\n",
    "        # print(JSON_Concat)\n",
    "        with open(file_path, 'w') as JSON_File:\n",
    "            json.dump(JSON_Concat, JSON_File)\n",
    "        print(\"DataFrame exported to JSON successfully.\")\n",
    "\n",
    "    # if data not available, make a new one\n",
    "    else:\n",
    "        with open(file_path, 'w') as JSON_File:\n",
    "            json.dump(JSON_Data, JSON_File)\n",
    "        print(\"DataFrame exported to JSON successfully.\")\n",
    "\n",
    "# Printing error that occured if existed\n",
    "except Exception as e:\n",
    "    print(f\"Error: {e}\")"
   ]
  },
  {
   "cell_type": "markdown",
   "metadata": {},
   "source": [
    "## Visualizing time series data from databases"
   ]
  },
  {
   "cell_type": "markdown",
   "metadata": {},
   "source": [
    "### Load JSON format data and covert into DataFrame"
   ]
  },
  {
   "cell_type": "code",
   "execution_count": null,
   "metadata": {},
   "outputs": [],
   "source": [
    "Dataset = pd.read_json(file_path)\n",
    "print(Dataset)\n"
   ]
  },
  {
   "cell_type": "markdown",
   "metadata": {},
   "source": [
    "### Building geometry to visualize lat,long dataset"
   ]
  },
  {
   "cell_type": "code",
   "execution_count": null,
   "metadata": {},
   "outputs": [],
   "source": [
    "# Define CRS\n",
    "CRS = {'init':'epsg:4326'}\n",
    "\n",
    "Dataset['geometry'] = gpd.points_from_xy(Dataset['Long'], Dataset['Lat'])\n",
    "Dataset = gpd.GeoDataFrame(Dataset, crs=crs, geometry=Dataset['geometry'])\n",
    "Dataset.explore()"
   ]
  },
  {
   "cell_type": "markdown",
   "metadata": {},
   "source": [
    "### Filtering dataset for specific city/location"
   ]
  },
  {
   "cell_type": "code",
   "execution_count": null,
   "metadata": {},
   "outputs": [],
   "source": [
    "Filter_City = input('Input a City: ')\n",
    "Dataset_Filtered = Dataset[Dataset['City'] == 'Jakarta']\n",
    "# Dataset_Filtered = Dataset[Dataset['City'] == 'Jakarta']\n",
    "print(Dataset_Filtered)\n",
    "\n",
    "if Dataset_Filtered == False:\n",
    "    print(\"Data not available.\")\n",
    "else:\n",
    "    pass"
   ]
  },
  {
   "cell_type": "markdown",
   "metadata": {},
   "source": [
    "### Plotting by date with Temperature, Humidity, Pressure, and Cloud Visibility"
   ]
  },
  {
   "cell_type": "code",
   "execution_count": null,
   "metadata": {},
   "outputs": [],
   "source": []
  }
 ],
 "metadata": {
  "kernelspec": {
   "display_name": "Python 3",
   "language": "python",
   "name": "python3"
  },
  "language_info": {
   "codemirror_mode": {
    "name": "ipython",
    "version": 3
   },
   "file_extension": ".py",
   "mimetype": "text/x-python",
   "name": "python",
   "nbconvert_exporter": "python",
   "pygments_lexer": "ipython3",
   "version": "3.12.1"
  }
 },
 "nbformat": 4,
 "nbformat_minor": 2
}
