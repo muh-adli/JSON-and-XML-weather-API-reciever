{
 "cells": [
  {
   "cell_type": "markdown",
   "metadata": {},
   "source": [
    "# Receiving weather API data and inserting into JSON Dataset\n",
    "\n",
    "## This projects use following Libraries:\n",
    "- requests==2.31.0\n",
    "- pandas==2.1.4\n",
    "- geopandas==0.14.1\n",
    "- DateTime==5.4\n",
    "- matplotlib==3.8.2\n",
    "- folium==0.15.1\n",
    "- mapclassify==2.6.1\n",
    "- json\n"
   ]
  },
  {
   "cell_type": "code",
   "execution_count": 1,
   "metadata": {},
   "outputs": [],
   "source": [
    "import os\n",
    "import requests\n",
    "import pandas as pd\n",
    "import geopandas as gpd\n",
    "import datetime\n",
    "import matplotlib.pyplot as plt\n",
    "import json"
   ]
  },
  {
   "cell_type": "markdown",
   "metadata": {},
   "source": [
    "## Get API key from https://openweathermap.org/ and create API_KEY.txt file in virtual environment"
   ]
  },
  {
   "cell_type": "code",
   "execution_count": 2,
   "metadata": {},
   "outputs": [
    {
     "name": "stdout",
     "output_type": "stream",
     "text": [
      "API Key found.\n"
     ]
    }
   ],
   "source": [
    "# Calling API_KEY\n",
    "try:\n",
    "    with open(\".venv/API.txt\", \"r\") as file:\n",
    "        API_KEY = file.read().strip()\n",
    "    print('API Key found.')\n",
    "    print(API_KEY)\n",
    "except Exception as e:\n",
    "    print('API Key not found.')"
   ]
  },
  {
   "cell_type": "markdown",
   "metadata": {},
   "source": [
    "## Building code for getting API to JSON"
   ]
  },
  {
   "cell_type": "code",
   "execution_count": 3,
   "metadata": {},
   "outputs": [
    {
     "name": "stdout",
     "output_type": "stream",
     "text": [
      "Calling API\n",
      "Data Accepted.\n"
     ]
    }
   ],
   "source": [
    "## make code for inputting city\n",
    "# city = input(\"Enter a city name: \")\n",
    "city = \"Jakarta\" # Default city is Jakarta\n",
    "\n",
    "# API calling format to change city and use API KEY\n",
    "BASE_URL = \"http://api.openweathermap.org/data/2.5/weather\"\n",
    "request_url = f\"{BASE_URL}?appid={API_KEY}&q={city}\"\n",
    "print('Calling API')\n",
    "response = requests.get(request_url)\n",
    "\n",
    "# to make sure the response is correct\n",
    "if response.status_code == 200:\n",
    "    data = response.json()\n",
    "    print(\"Data Accepted.\")\n",
    "else:\n",
    "    print(f\"Error {response.status_code}: {response.text}\")\n",
    "\n"
   ]
  },
  {
   "cell_type": "markdown",
   "metadata": {},
   "source": [
    "## Cleansing JSON Data"
   ]
  },
  {
   "cell_type": "code",
   "execution_count": 4,
   "metadata": {},
   "outputs": [
    {
     "name": "stdout",
     "output_type": "stream",
     "text": [
      "{'coord': {'lon': 106.8451, 'lat': -6.2146}, 'weather': [{'id': 721, 'main': 'Haze', 'description': 'haze', 'icon': '50n'}], 'base': 'stations', 'main': {'temp': 300.9, 'feels_like': 306.76, 'temp_min': 299.2, 'temp_max': 305.6, 'pressure': 1008, 'humidity': 94}, 'visibility': 4000, 'wind': {'speed': 4.12, 'deg': 240}, 'clouds': {'all': 40}, 'dt': 1703849338, 'sys': {'type': 1, 'id': 9383, 'country': 'ID', 'sunrise': 1703803188, 'sunset': 1703848113}, 'timezone': 25200, 'id': 1642911, 'name': 'Jakarta', 'cod': 200}\n"
     ]
    }
   ],
   "source": [
    "# analyze the response API data\n",
    "print(data)"
   ]
  },
  {
   "cell_type": "code",
   "execution_count": 5,
   "metadata": {},
   "outputs": [
    {
     "name": "stdout",
     "output_type": "stream",
     "text": [
      "Processing Data.\n"
     ]
    }
   ],
   "source": [
    "print('Processing Data.')\n",
    "# Get Coordinate\n",
    "Lat = data['coord']['lat']\n",
    "Long = data['coord']['lon']\n",
    "\n",
    "# Convert Unix time to Datetime\n",
    "Date = str(datetime.datetime.fromtimestamp(data['dt']).strftime('%Y-%m-%d %H:%M:%S'))\n",
    "\n",
    "# Get weather data\n",
    "City_Name = data['name']\n",
    "Temp_Avg = round(((data['main']['temp_max']+data['main']['temp_min'])/2)- 273.15,2) # Converting Kelvin to Celsius\n",
    "Pressure = data['main']['pressure']\n",
    "Humidity = data['main']['humidity']\n",
    "Wind_spd = data['wind']['speed']\n",
    "Wind_deg = data['wind']['deg']\n",
    "Cloud_Percent = data['clouds']['all']"
   ]
  },
  {
   "cell_type": "markdown",
   "metadata": {},
   "source": [
    "### Validating the data"
   ]
  },
  {
   "cell_type": "code",
   "execution_count": 6,
   "metadata": {},
   "outputs": [
    {
     "name": "stdout",
     "output_type": "stream",
     "text": [
      "After cleansing data from API.\n",
      "Done\n",
      "                  Date     City       Temp_Avg  Pressure Humidity  Wind_spd  \\\n",
      "0  2023-12-29 18:28:58  Jakarta  29.25 Celcius      1008     94 %      4.12   \n",
      "\n",
      "   Wind_deg Cloud      Long     Lat  \n",
      "0       240  40 %  106.8451 -6.2146  \n"
     ]
    }
   ],
   "source": [
    "# Formating from JSON to Pandas Dataframe\n",
    "Data_Clean = pd.DataFrame({\n",
    "    'Date': Date,\n",
    "    'City': City_Name,\n",
    "    'Temp_Avg': str(Temp_Avg) + ' Celcius',\n",
    "    'Pressure': Pressure,\n",
    "    'Humidity': str(Humidity) + ' %',\n",
    "    'Wind_spd': Wind_spd,\n",
    "    'Wind_deg': Wind_deg,\n",
    "    'Cloud': str(Cloud_Percent) + ' %',\n",
    "    'Long': Long,\n",
    "    'Lat': Lat,}\n",
    "    , index=[0])\n",
    "print('Done.')\n",
    "\n",
    "print('After cleansing data from API.')\n",
    "print(Data_Clean)"
   ]
  },
  {
   "cell_type": "markdown",
   "metadata": {},
   "source": [
    "### Visualize data from API"
   ]
  },
  {
   "cell_type": "code",
   "execution_count": 7,
   "metadata": {},
   "outputs": [
    {
     "name": "stderr",
     "output_type": "stream",
     "text": [
      "c:\\Project Coding\\Python\\JSON-and-XML-weather-API-reciever\\.venv\\Lib\\site-packages\\pyproj\\crs\\crs.py:141: FutureWarning: '+init=<authority>:<code>' syntax is deprecated. '<authority>:<code>' is the preferred initialization method. When making the change, be mindful of axis order changes: https://pyproj4.github.io/pyproj/stable/gotchas.html#axis-order-changes-in-proj-6\n",
      "  in_crs_string = _prepare_from_proj_string(in_crs_string)\n"
     ]
    },
    {
     "data": {
      "text/html": [
       "<div style=\"width:100%;\"><div style=\"position:relative;width:100%;height:0;padding-bottom:60%;\"><span style=\"color:#565656\">Make this Notebook Trusted to load map: File -> Trust Notebook</span><iframe srcdoc=\"&lt;!DOCTYPE html&gt;\n",
       "&lt;html&gt;\n",
       "&lt;head&gt;\n",
       "    \n",
       "    &lt;meta http-equiv=&quot;content-type&quot; content=&quot;text/html; charset=UTF-8&quot; /&gt;\n",
       "    \n",
       "        &lt;script&gt;\n",
       "            L_NO_TOUCH = false;\n",
       "            L_DISABLE_3D = false;\n",
       "        &lt;/script&gt;\n",
       "    \n",
       "    &lt;style&gt;html, body {width: 100%;height: 100%;margin: 0;padding: 0;}&lt;/style&gt;\n",
       "    &lt;style&gt;#map {position:absolute;top:0;bottom:0;right:0;left:0;}&lt;/style&gt;\n",
       "    &lt;script src=&quot;https://cdn.jsdelivr.net/npm/leaflet@1.9.3/dist/leaflet.js&quot;&gt;&lt;/script&gt;\n",
       "    &lt;script src=&quot;https://code.jquery.com/jquery-3.7.1.min.js&quot;&gt;&lt;/script&gt;\n",
       "    &lt;script src=&quot;https://cdn.jsdelivr.net/npm/bootstrap@5.2.2/dist/js/bootstrap.bundle.min.js&quot;&gt;&lt;/script&gt;\n",
       "    &lt;script src=&quot;https://cdnjs.cloudflare.com/ajax/libs/Leaflet.awesome-markers/2.0.2/leaflet.awesome-markers.js&quot;&gt;&lt;/script&gt;\n",
       "    &lt;link rel=&quot;stylesheet&quot; href=&quot;https://cdn.jsdelivr.net/npm/leaflet@1.9.3/dist/leaflet.css&quot;/&gt;\n",
       "    &lt;link rel=&quot;stylesheet&quot; href=&quot;https://cdn.jsdelivr.net/npm/bootstrap@5.2.2/dist/css/bootstrap.min.css&quot;/&gt;\n",
       "    &lt;link rel=&quot;stylesheet&quot; href=&quot;https://netdna.bootstrapcdn.com/bootstrap/3.0.0/css/bootstrap.min.css&quot;/&gt;\n",
       "    &lt;link rel=&quot;stylesheet&quot; href=&quot;https://cdn.jsdelivr.net/npm/@fortawesome/fontawesome-free@6.2.0/css/all.min.css&quot;/&gt;\n",
       "    &lt;link rel=&quot;stylesheet&quot; href=&quot;https://cdnjs.cloudflare.com/ajax/libs/Leaflet.awesome-markers/2.0.2/leaflet.awesome-markers.css&quot;/&gt;\n",
       "    &lt;link rel=&quot;stylesheet&quot; href=&quot;https://cdn.jsdelivr.net/gh/python-visualization/folium/folium/templates/leaflet.awesome.rotate.min.css&quot;/&gt;\n",
       "    \n",
       "            &lt;meta name=&quot;viewport&quot; content=&quot;width=device-width,\n",
       "                initial-scale=1.0, maximum-scale=1.0, user-scalable=no&quot; /&gt;\n",
       "            &lt;style&gt;\n",
       "                #map_0678affabe6f9b586bf6cf03aa5b5f30 {\n",
       "                    position: relative;\n",
       "                    width: 100.0%;\n",
       "                    height: 100.0%;\n",
       "                    left: 0.0%;\n",
       "                    top: 0.0%;\n",
       "                }\n",
       "                .leaflet-container { font-size: 1rem; }\n",
       "            &lt;/style&gt;\n",
       "        \n",
       "    \n",
       "                    &lt;style&gt;\n",
       "                        .foliumtooltip {\n",
       "                            \n",
       "                        }\n",
       "                       .foliumtooltip table{\n",
       "                            margin: auto;\n",
       "                        }\n",
       "                        .foliumtooltip tr{\n",
       "                            text-align: left;\n",
       "                        }\n",
       "                        .foliumtooltip th{\n",
       "                            padding: 2px; padding-right: 8px;\n",
       "                        }\n",
       "                    &lt;/style&gt;\n",
       "            \n",
       "&lt;/head&gt;\n",
       "&lt;body&gt;\n",
       "    \n",
       "    \n",
       "            &lt;div class=&quot;folium-map&quot; id=&quot;map_0678affabe6f9b586bf6cf03aa5b5f30&quot; &gt;&lt;/div&gt;\n",
       "        \n",
       "&lt;/body&gt;\n",
       "&lt;script&gt;\n",
       "    \n",
       "    \n",
       "            var map_0678affabe6f9b586bf6cf03aa5b5f30 = L.map(\n",
       "                &quot;map_0678affabe6f9b586bf6cf03aa5b5f30&quot;,\n",
       "                {\n",
       "                    center: [-6.2146, 106.8451],\n",
       "                    crs: L.CRS.EPSG3857,\n",
       "                    zoom: 10,\n",
       "                    zoomControl: true,\n",
       "                    preferCanvas: false,\n",
       "                }\n",
       "            );\n",
       "            L.control.scale().addTo(map_0678affabe6f9b586bf6cf03aa5b5f30);\n",
       "\n",
       "            \n",
       "\n",
       "        \n",
       "    \n",
       "            var tile_layer_a4ce266fd03560ecf60ecc1680ab318a = L.tileLayer(\n",
       "                &quot;https://tile.openstreetmap.org/{z}/{x}/{y}.png&quot;,\n",
       "                {&quot;attribution&quot;: &quot;\\u0026copy; \\u003ca href=\\&quot;https://www.openstreetmap.org/copyright\\&quot;\\u003eOpenStreetMap\\u003c/a\\u003e contributors&quot;, &quot;detectRetina&quot;: false, &quot;maxNativeZoom&quot;: 19, &quot;maxZoom&quot;: 19, &quot;minZoom&quot;: 0, &quot;noWrap&quot;: false, &quot;opacity&quot;: 1, &quot;subdomains&quot;: &quot;abc&quot;, &quot;tms&quot;: false}\n",
       "            );\n",
       "        \n",
       "    \n",
       "            tile_layer_a4ce266fd03560ecf60ecc1680ab318a.addTo(map_0678affabe6f9b586bf6cf03aa5b5f30);\n",
       "        \n",
       "    \n",
       "            map_0678affabe6f9b586bf6cf03aa5b5f30.fitBounds(\n",
       "                [[-6.2146, 106.8451], [-6.2146, 106.8451]],\n",
       "                {}\n",
       "            );\n",
       "        \n",
       "    \n",
       "        function geo_json_c444a76b2ad9edd6f8d037f5ab26afa5_styler(feature) {\n",
       "            switch(feature.id) {\n",
       "                default:\n",
       "                    return {&quot;fillOpacity&quot;: 0.5, &quot;weight&quot;: 2};\n",
       "            }\n",
       "        }\n",
       "        function geo_json_c444a76b2ad9edd6f8d037f5ab26afa5_highlighter(feature) {\n",
       "            switch(feature.id) {\n",
       "                default:\n",
       "                    return {&quot;fillOpacity&quot;: 0.75};\n",
       "            }\n",
       "        }\n",
       "        function geo_json_c444a76b2ad9edd6f8d037f5ab26afa5_pointToLayer(feature, latlng) {\n",
       "            var opts = {&quot;bubblingMouseEvents&quot;: true, &quot;color&quot;: &quot;#3388ff&quot;, &quot;dashArray&quot;: null, &quot;dashOffset&quot;: null, &quot;fill&quot;: true, &quot;fillColor&quot;: &quot;#3388ff&quot;, &quot;fillOpacity&quot;: 0.2, &quot;fillRule&quot;: &quot;evenodd&quot;, &quot;lineCap&quot;: &quot;round&quot;, &quot;lineJoin&quot;: &quot;round&quot;, &quot;opacity&quot;: 1.0, &quot;radius&quot;: 2, &quot;stroke&quot;: true, &quot;weight&quot;: 3};\n",
       "            \n",
       "            let style = geo_json_c444a76b2ad9edd6f8d037f5ab26afa5_styler(feature)\n",
       "            Object.assign(opts, style)\n",
       "            \n",
       "            return new L.CircleMarker(latlng, opts)\n",
       "        }\n",
       "\n",
       "        function geo_json_c444a76b2ad9edd6f8d037f5ab26afa5_onEachFeature(feature, layer) {\n",
       "            layer.on({\n",
       "                mouseout: function(e) {\n",
       "                    if(typeof e.target.setStyle === &quot;function&quot;){\n",
       "                        geo_json_c444a76b2ad9edd6f8d037f5ab26afa5.resetStyle(e.target);\n",
       "                    }\n",
       "                },\n",
       "                mouseover: function(e) {\n",
       "                    if(typeof e.target.setStyle === &quot;function&quot;){\n",
       "                        const highlightStyle = geo_json_c444a76b2ad9edd6f8d037f5ab26afa5_highlighter(e.target.feature)\n",
       "                        e.target.setStyle(highlightStyle);\n",
       "                    }\n",
       "                },\n",
       "            });\n",
       "        };\n",
       "        var geo_json_c444a76b2ad9edd6f8d037f5ab26afa5 = L.geoJson(null, {\n",
       "                onEachFeature: geo_json_c444a76b2ad9edd6f8d037f5ab26afa5_onEachFeature,\n",
       "            \n",
       "                style: geo_json_c444a76b2ad9edd6f8d037f5ab26afa5_styler,\n",
       "                pointToLayer: geo_json_c444a76b2ad9edd6f8d037f5ab26afa5_pointToLayer,\n",
       "        });\n",
       "\n",
       "        function geo_json_c444a76b2ad9edd6f8d037f5ab26afa5_add (data) {\n",
       "            geo_json_c444a76b2ad9edd6f8d037f5ab26afa5\n",
       "                .addData(data);\n",
       "        }\n",
       "            geo_json_c444a76b2ad9edd6f8d037f5ab26afa5_add({&quot;bbox&quot;: [106.8451, -6.2146, 106.8451, -6.2146], &quot;features&quot;: [{&quot;bbox&quot;: [106.8451, -6.2146, 106.8451, -6.2146], &quot;geometry&quot;: {&quot;coordinates&quot;: [106.8451, -6.2146], &quot;type&quot;: &quot;Point&quot;}, &quot;id&quot;: &quot;0&quot;, &quot;properties&quot;: {&quot;City&quot;: &quot;Jakarta&quot;, &quot;Cloud&quot;: &quot;40 %&quot;, &quot;Date&quot;: &quot;2023-12-29 18:28:58&quot;, &quot;Humidity&quot;: &quot;94 %&quot;, &quot;Lat&quot;: -6.2146, &quot;Long&quot;: 106.8451, &quot;Pressure&quot;: 1008, &quot;Temp_Avg&quot;: &quot;29.25 Celcius&quot;, &quot;Wind_deg&quot;: 240, &quot;Wind_spd&quot;: 4.12}, &quot;type&quot;: &quot;Feature&quot;}], &quot;type&quot;: &quot;FeatureCollection&quot;});\n",
       "\n",
       "        \n",
       "    \n",
       "    geo_json_c444a76b2ad9edd6f8d037f5ab26afa5.bindTooltip(\n",
       "    function(layer){\n",
       "    let div = L.DomUtil.create(&#x27;div&#x27;);\n",
       "    \n",
       "    let handleObject = feature=&gt;typeof(feature)==&#x27;object&#x27; ? JSON.stringify(feature) : feature;\n",
       "    let fields = [&quot;Date&quot;, &quot;City&quot;, &quot;Temp_Avg&quot;, &quot;Pressure&quot;, &quot;Humidity&quot;, &quot;Wind_spd&quot;, &quot;Wind_deg&quot;, &quot;Cloud&quot;, &quot;Long&quot;, &quot;Lat&quot;];\n",
       "    let aliases = [&quot;Date&quot;, &quot;City&quot;, &quot;Temp_Avg&quot;, &quot;Pressure&quot;, &quot;Humidity&quot;, &quot;Wind_spd&quot;, &quot;Wind_deg&quot;, &quot;Cloud&quot;, &quot;Long&quot;, &quot;Lat&quot;];\n",
       "    let table = &#x27;&lt;table&gt;&#x27; +\n",
       "        String(\n",
       "        fields.map(\n",
       "        (v,i)=&gt;\n",
       "        `&lt;tr&gt;\n",
       "            &lt;th&gt;${aliases[i]}&lt;/th&gt;\n",
       "            \n",
       "            &lt;td&gt;${handleObject(layer.feature.properties[v])}&lt;/td&gt;\n",
       "        &lt;/tr&gt;`).join(&#x27;&#x27;))\n",
       "    +&#x27;&lt;/table&gt;&#x27;;\n",
       "    div.innerHTML=table;\n",
       "    \n",
       "    return div\n",
       "    }\n",
       "    ,{&quot;className&quot;: &quot;foliumtooltip&quot;, &quot;sticky&quot;: true});\n",
       "                     \n",
       "    \n",
       "            geo_json_c444a76b2ad9edd6f8d037f5ab26afa5.addTo(map_0678affabe6f9b586bf6cf03aa5b5f30);\n",
       "        \n",
       "&lt;/script&gt;\n",
       "&lt;/html&gt;\" style=\"position:absolute;width:100%;height:100%;left:0;top:0;border:none !important;\" allowfullscreen webkitallowfullscreen mozallowfullscreen></iframe></div></div>"
      ],
      "text/plain": [
       "<folium.folium.Map at 0x26ef0ee1e50>"
      ]
     },
     "execution_count": 7,
     "metadata": {},
     "output_type": "execute_result"
    }
   ],
   "source": [
    "# Location\n",
    "crs = {'init':'epsg:4326'}\n",
    "geo_data = Data_Clean\n",
    "Data_Clean['geometry'] = gpd.points_from_xy(Data_Clean['Long'], Data_Clean['Lat'])\n",
    "geo_data = gpd.GeoDataFrame(Data_Clean, crs=crs, geometry=Data_Clean['geometry'])\n",
    "geo_data.explore()\n",
    "# Wind Speed and direction\n",
    "\n",
    "# Temperature, Pressure, Humidity, and Cloud"
   ]
  },
  {
   "cell_type": "markdown",
   "metadata": {},
   "source": [
    "## inserting to Databases"
   ]
  },
  {
   "cell_type": "code",
   "execution_count": 8,
   "metadata": {},
   "outputs": [
    {
     "name": "stdout",
     "output_type": "stream",
     "text": [
      "Dataset exists. Reading Data.\n",
      "Merging data.\n",
      "DataFrame exported to JSON successfully.\n"
     ]
    }
   ],
   "source": [
    "# Convert the DataFrame to a dictionary and then to JSON\n",
    "if 'geometry' in Data_Clean.columns:\n",
    "    Data_Clean = pd.DataFrame(Data_Clean.drop(columns='geometry'))\n",
    "JSON_Data = Data_Clean.to_dict(orient='records')\n",
    "\n",
    "# Export JSON data to a file\n",
    "try:\n",
    "    file_path = 'datastorage/weatherdata.json'\n",
    "    # Checking weather data storage\n",
    "    if os.path.exists(file_path):\n",
    "        print('Dataset exists. Reading Data.')\n",
    "        Data_Clean['Date'] = pd.to_datetime(Data_Clean['Date'])\n",
    "        Data_Existing = pd.read_json(file_path)\n",
    "\n",
    "        print('Merging data.')\n",
    "        Data_Merged = pd.concat([Data_Clean,Data_Existing], ignore_index=True)\n",
    "        Data_Merged = Data_Merged.to_json(orient = 'records')\n",
    "\n",
    "        with open(file_path, 'w') as JSON_File:\n",
    "            json.dump(json.loads(Data_Merged), JSON_File)\n",
    "        print('DataFrame exported to JSON successfully.')\n",
    "\n",
    "    # if data not available, make a new one\n",
    "    else:\n",
    "        print('Dataset not found. Building new dataset.')\n",
    "        with open(file_path, 'w') as JSON_File:\n",
    "            json.dump(JSON_Data, JSON_File)\n",
    "        print('DataFrame exported to JSON successfully.')\n",
    "\n",
    "# Printing error that occured if existed\n",
    "except Exception as e:\n",
    "    print(f\"Error: {e}\")"
   ]
  },
  {
   "cell_type": "markdown",
   "metadata": {},
   "source": [
    "## Visualizing time series data from databases"
   ]
  },
  {
   "cell_type": "markdown",
   "metadata": {},
   "source": [
    "### Load JSON format data and covert into DataFrame"
   ]
  },
  {
   "cell_type": "code",
   "execution_count": 9,
   "metadata": {},
   "outputs": [
    {
     "name": "stdout",
     "output_type": "stream",
     "text": [
      "Dataset available.\n",
      "                  Date     City       Temp_Avg  Pressure Humidity  Wind_spd  \\\n",
      "0  2023-12-29 18:28:58  Jakarta  29.25 Celcius      1008     94 %      4.12   \n",
      "1  2023-12-29 18:18:30  Jakarta  28.73 Celcius      1008     94 %      4.12   \n",
      "2  2023-12-29 17:52:01  Jakarta  28.73 Celcius      1008     94 %      4.12   \n",
      "3  2023-12-29 17:40:23  Jakarta  28.73 Celcius      1008     94 %      7.72   \n",
      "4  2023-12-29 12:56:33  Jakarta  33.49 Celcius      1005    100 %      3.86   \n",
      "5  2023-12-28 15:57:26  Jakarta  32.12 Celcius      1006     77 %      5.14   \n",
      "6  2023-12-28 13:57:01  Jakarta   32.0 Celcius      1010     70 %      7.72   \n",
      "7  2023-12-28 13:57:01  Jakarta   32.0 Celcius      1010     70 %      7.72   \n",
      "8  2023-12-28 13:57:01  Jakarta   32.0 Celcius      1010     70 %      7.72   \n",
      "9  2023-12-28 13:43:33  Jakarta   32.0 Celcius      1010     70 %      7.72   \n",
      "10 2023-12-28 13:35:35  Jakarta   34.1 Celcius      1008     77 %      5.14   \n",
      "11 2023-12-28 13:25:12  Jakarta  33.25 Celcius      1009     77 %      5.14   \n",
      "12 2023-12-28 13:15:02  Jakarta   33.6 Celcius      1009     69 %      5.14   \n",
      "13 2023-12-28 12:43:08  Jakarta  34.29 Celcius      1009     70 %      5.14   \n",
      "14 2023-12-28 10:57:52  Jakarta  33.33 Celcius      1010     72 %      1.54   \n",
      "15 2023-12-27 15:20:27  Jakarta  31.53 Celcius      1009     68 %      3.09   \n",
      "\n",
      "    Wind_deg Cloud      Long     Lat  \n",
      "0        240  40 %  106.8451 -6.2146  \n",
      "1        240  40 %  106.8451 -6.2146  \n",
      "2        240  40 %  106.8451 -6.2146  \n",
      "3        240  75 %  106.8451 -6.2146  \n",
      "4         20  73 %  106.8451 -6.2146  \n",
      "5         20  40 %  106.8451 -6.2146  \n",
      "6         20  40 %  106.8451 -6.2146  \n",
      "7         20  40 %  106.8451 -6.2146  \n",
      "8         20  40 %  106.8451 -6.2146  \n",
      "9         20  40 %  106.8451 -6.2146  \n",
      "10        30  40 %  106.8451 -6.2146  \n",
      "11        30  40 %  106.8451 -6.2146  \n",
      "12        30  40 %  106.8451 -6.2146  \n",
      "13        70  40 %  106.8451 -6.2146  \n",
      "14       310  40 %  106.8451 -6.2146  \n",
      "15       360  75 %  106.8451 -6.2146  \n"
     ]
    }
   ],
   "source": [
    "# Load Dataset file\n",
    "Dataset = pd.read_json(file_path)\n",
    "print('Dataset found.')\n",
    "print(Dataset)"
   ]
  },
  {
   "cell_type": "markdown",
   "metadata": {},
   "source": [
    "### Building geometry to visualize Coordinate dataset"
   ]
  },
  {
   "cell_type": "code",
   "execution_count": 10,
   "metadata": {},
   "outputs": [
    {
     "name": "stdout",
     "output_type": "stream",
     "text": [
      "Plotting with coordinate\n"
     ]
    },
    {
     "name": "stderr",
     "output_type": "stream",
     "text": [
      "c:\\Project Coding\\Python\\JSON-and-XML-weather-API-reciever\\.venv\\Lib\\site-packages\\pyproj\\crs\\crs.py:141: FutureWarning: '+init=<authority>:<code>' syntax is deprecated. '<authority>:<code>' is the preferred initialization method. When making the change, be mindful of axis order changes: https://pyproj4.github.io/pyproj/stable/gotchas.html#axis-order-changes-in-proj-6\n",
      "  in_crs_string = _prepare_from_proj_string(in_crs_string)\n"
     ]
    },
    {
     "data": {
      "text/html": [
       "<div style=\"width:100%;\"><div style=\"position:relative;width:100%;height:0;padding-bottom:60%;\"><span style=\"color:#565656\">Make this Notebook Trusted to load map: File -> Trust Notebook</span><iframe srcdoc=\"&lt;!DOCTYPE html&gt;\n",
       "&lt;html&gt;\n",
       "&lt;head&gt;\n",
       "    \n",
       "    &lt;meta http-equiv=&quot;content-type&quot; content=&quot;text/html; charset=UTF-8&quot; /&gt;\n",
       "    \n",
       "        &lt;script&gt;\n",
       "            L_NO_TOUCH = false;\n",
       "            L_DISABLE_3D = false;\n",
       "        &lt;/script&gt;\n",
       "    \n",
       "    &lt;style&gt;html, body {width: 100%;height: 100%;margin: 0;padding: 0;}&lt;/style&gt;\n",
       "    &lt;style&gt;#map {position:absolute;top:0;bottom:0;right:0;left:0;}&lt;/style&gt;\n",
       "    &lt;script src=&quot;https://cdn.jsdelivr.net/npm/leaflet@1.9.3/dist/leaflet.js&quot;&gt;&lt;/script&gt;\n",
       "    &lt;script src=&quot;https://code.jquery.com/jquery-3.7.1.min.js&quot;&gt;&lt;/script&gt;\n",
       "    &lt;script src=&quot;https://cdn.jsdelivr.net/npm/bootstrap@5.2.2/dist/js/bootstrap.bundle.min.js&quot;&gt;&lt;/script&gt;\n",
       "    &lt;script src=&quot;https://cdnjs.cloudflare.com/ajax/libs/Leaflet.awesome-markers/2.0.2/leaflet.awesome-markers.js&quot;&gt;&lt;/script&gt;\n",
       "    &lt;link rel=&quot;stylesheet&quot; href=&quot;https://cdn.jsdelivr.net/npm/leaflet@1.9.3/dist/leaflet.css&quot;/&gt;\n",
       "    &lt;link rel=&quot;stylesheet&quot; href=&quot;https://cdn.jsdelivr.net/npm/bootstrap@5.2.2/dist/css/bootstrap.min.css&quot;/&gt;\n",
       "    &lt;link rel=&quot;stylesheet&quot; href=&quot;https://netdna.bootstrapcdn.com/bootstrap/3.0.0/css/bootstrap.min.css&quot;/&gt;\n",
       "    &lt;link rel=&quot;stylesheet&quot; href=&quot;https://cdn.jsdelivr.net/npm/@fortawesome/fontawesome-free@6.2.0/css/all.min.css&quot;/&gt;\n",
       "    &lt;link rel=&quot;stylesheet&quot; href=&quot;https://cdnjs.cloudflare.com/ajax/libs/Leaflet.awesome-markers/2.0.2/leaflet.awesome-markers.css&quot;/&gt;\n",
       "    &lt;link rel=&quot;stylesheet&quot; href=&quot;https://cdn.jsdelivr.net/gh/python-visualization/folium/folium/templates/leaflet.awesome.rotate.min.css&quot;/&gt;\n",
       "    \n",
       "            &lt;meta name=&quot;viewport&quot; content=&quot;width=device-width,\n",
       "                initial-scale=1.0, maximum-scale=1.0, user-scalable=no&quot; /&gt;\n",
       "            &lt;style&gt;\n",
       "                #map_19765dd29669984dafb31f0695ee05b2 {\n",
       "                    position: relative;\n",
       "                    width: 100.0%;\n",
       "                    height: 100.0%;\n",
       "                    left: 0.0%;\n",
       "                    top: 0.0%;\n",
       "                }\n",
       "                .leaflet-container { font-size: 1rem; }\n",
       "            &lt;/style&gt;\n",
       "        \n",
       "    \n",
       "                    &lt;style&gt;\n",
       "                        .foliumtooltip {\n",
       "                            \n",
       "                        }\n",
       "                       .foliumtooltip table{\n",
       "                            margin: auto;\n",
       "                        }\n",
       "                        .foliumtooltip tr{\n",
       "                            text-align: left;\n",
       "                        }\n",
       "                        .foliumtooltip th{\n",
       "                            padding: 2px; padding-right: 8px;\n",
       "                        }\n",
       "                    &lt;/style&gt;\n",
       "            \n",
       "&lt;/head&gt;\n",
       "&lt;body&gt;\n",
       "    \n",
       "    \n",
       "            &lt;div class=&quot;folium-map&quot; id=&quot;map_19765dd29669984dafb31f0695ee05b2&quot; &gt;&lt;/div&gt;\n",
       "        \n",
       "&lt;/body&gt;\n",
       "&lt;script&gt;\n",
       "    \n",
       "    \n",
       "            var map_19765dd29669984dafb31f0695ee05b2 = L.map(\n",
       "                &quot;map_19765dd29669984dafb31f0695ee05b2&quot;,\n",
       "                {\n",
       "                    center: [-6.2146, 106.8451],\n",
       "                    crs: L.CRS.EPSG3857,\n",
       "                    zoom: 10,\n",
       "                    zoomControl: true,\n",
       "                    preferCanvas: false,\n",
       "                }\n",
       "            );\n",
       "            L.control.scale().addTo(map_19765dd29669984dafb31f0695ee05b2);\n",
       "\n",
       "            \n",
       "\n",
       "        \n",
       "    \n",
       "            var tile_layer_6d59815b5114ede0ab3c367f0ba6ca83 = L.tileLayer(\n",
       "                &quot;https://tile.openstreetmap.org/{z}/{x}/{y}.png&quot;,\n",
       "                {&quot;attribution&quot;: &quot;\\u0026copy; \\u003ca href=\\&quot;https://www.openstreetmap.org/copyright\\&quot;\\u003eOpenStreetMap\\u003c/a\\u003e contributors&quot;, &quot;detectRetina&quot;: false, &quot;maxNativeZoom&quot;: 19, &quot;maxZoom&quot;: 19, &quot;minZoom&quot;: 0, &quot;noWrap&quot;: false, &quot;opacity&quot;: 1, &quot;subdomains&quot;: &quot;abc&quot;, &quot;tms&quot;: false}\n",
       "            );\n",
       "        \n",
       "    \n",
       "            tile_layer_6d59815b5114ede0ab3c367f0ba6ca83.addTo(map_19765dd29669984dafb31f0695ee05b2);\n",
       "        \n",
       "    \n",
       "            map_19765dd29669984dafb31f0695ee05b2.fitBounds(\n",
       "                [[-6.2146, 106.8451], [-6.2146, 106.8451]],\n",
       "                {}\n",
       "            );\n",
       "        \n",
       "    \n",
       "        function geo_json_c2d31ae1d64828bfc72cece98bcb5891_styler(feature) {\n",
       "            switch(feature.id) {\n",
       "                default:\n",
       "                    return {&quot;fillOpacity&quot;: 0.5, &quot;weight&quot;: 2};\n",
       "            }\n",
       "        }\n",
       "        function geo_json_c2d31ae1d64828bfc72cece98bcb5891_highlighter(feature) {\n",
       "            switch(feature.id) {\n",
       "                default:\n",
       "                    return {&quot;fillOpacity&quot;: 0.75};\n",
       "            }\n",
       "        }\n",
       "        function geo_json_c2d31ae1d64828bfc72cece98bcb5891_pointToLayer(feature, latlng) {\n",
       "            var opts = {&quot;bubblingMouseEvents&quot;: true, &quot;color&quot;: &quot;#3388ff&quot;, &quot;dashArray&quot;: null, &quot;dashOffset&quot;: null, &quot;fill&quot;: true, &quot;fillColor&quot;: &quot;#3388ff&quot;, &quot;fillOpacity&quot;: 0.2, &quot;fillRule&quot;: &quot;evenodd&quot;, &quot;lineCap&quot;: &quot;round&quot;, &quot;lineJoin&quot;: &quot;round&quot;, &quot;opacity&quot;: 1.0, &quot;radius&quot;: 2, &quot;stroke&quot;: true, &quot;weight&quot;: 3};\n",
       "            \n",
       "            let style = geo_json_c2d31ae1d64828bfc72cece98bcb5891_styler(feature)\n",
       "            Object.assign(opts, style)\n",
       "            \n",
       "            return new L.CircleMarker(latlng, opts)\n",
       "        }\n",
       "\n",
       "        function geo_json_c2d31ae1d64828bfc72cece98bcb5891_onEachFeature(feature, layer) {\n",
       "            layer.on({\n",
       "                mouseout: function(e) {\n",
       "                    if(typeof e.target.setStyle === &quot;function&quot;){\n",
       "                        geo_json_c2d31ae1d64828bfc72cece98bcb5891.resetStyle(e.target);\n",
       "                    }\n",
       "                },\n",
       "                mouseover: function(e) {\n",
       "                    if(typeof e.target.setStyle === &quot;function&quot;){\n",
       "                        const highlightStyle = geo_json_c2d31ae1d64828bfc72cece98bcb5891_highlighter(e.target.feature)\n",
       "                        e.target.setStyle(highlightStyle);\n",
       "                    }\n",
       "                },\n",
       "            });\n",
       "        };\n",
       "        var geo_json_c2d31ae1d64828bfc72cece98bcb5891 = L.geoJson(null, {\n",
       "                onEachFeature: geo_json_c2d31ae1d64828bfc72cece98bcb5891_onEachFeature,\n",
       "            \n",
       "                style: geo_json_c2d31ae1d64828bfc72cece98bcb5891_styler,\n",
       "                pointToLayer: geo_json_c2d31ae1d64828bfc72cece98bcb5891_pointToLayer,\n",
       "        });\n",
       "\n",
       "        function geo_json_c2d31ae1d64828bfc72cece98bcb5891_add (data) {\n",
       "            geo_json_c2d31ae1d64828bfc72cece98bcb5891\n",
       "                .addData(data);\n",
       "        }\n",
       "            geo_json_c2d31ae1d64828bfc72cece98bcb5891_add({&quot;bbox&quot;: [106.8451, -6.2146, 106.8451, -6.2146], &quot;features&quot;: [{&quot;bbox&quot;: [106.8451, -6.2146, 106.8451, -6.2146], &quot;geometry&quot;: {&quot;coordinates&quot;: [106.8451, -6.2146], &quot;type&quot;: &quot;Point&quot;}, &quot;id&quot;: &quot;0&quot;, &quot;properties&quot;: {&quot;City&quot;: &quot;Jakarta&quot;, &quot;Cloud&quot;: &quot;40 %&quot;, &quot;Date&quot;: &quot;2023-12-29 18:28:58&quot;, &quot;Humidity&quot;: &quot;94 %&quot;, &quot;Lat&quot;: -6.2146, &quot;Long&quot;: 106.8451, &quot;Pressure&quot;: 1008, &quot;Temp_Avg&quot;: &quot;29.25 Celcius&quot;, &quot;Wind_deg&quot;: 240, &quot;Wind_spd&quot;: 4.12}, &quot;type&quot;: &quot;Feature&quot;}, {&quot;bbox&quot;: [106.8451, -6.2146, 106.8451, -6.2146], &quot;geometry&quot;: {&quot;coordinates&quot;: [106.8451, -6.2146], &quot;type&quot;: &quot;Point&quot;}, &quot;id&quot;: &quot;1&quot;, &quot;properties&quot;: {&quot;City&quot;: &quot;Jakarta&quot;, &quot;Cloud&quot;: &quot;40 %&quot;, &quot;Date&quot;: &quot;2023-12-29 18:18:30&quot;, &quot;Humidity&quot;: &quot;94 %&quot;, &quot;Lat&quot;: -6.2146, &quot;Long&quot;: 106.8451, &quot;Pressure&quot;: 1008, &quot;Temp_Avg&quot;: &quot;28.73 Celcius&quot;, &quot;Wind_deg&quot;: 240, &quot;Wind_spd&quot;: 4.12}, &quot;type&quot;: &quot;Feature&quot;}, {&quot;bbox&quot;: [106.8451, -6.2146, 106.8451, -6.2146], &quot;geometry&quot;: {&quot;coordinates&quot;: [106.8451, -6.2146], &quot;type&quot;: &quot;Point&quot;}, &quot;id&quot;: &quot;2&quot;, &quot;properties&quot;: {&quot;City&quot;: &quot;Jakarta&quot;, &quot;Cloud&quot;: &quot;40 %&quot;, &quot;Date&quot;: &quot;2023-12-29 17:52:01&quot;, &quot;Humidity&quot;: &quot;94 %&quot;, &quot;Lat&quot;: -6.2146, &quot;Long&quot;: 106.8451, &quot;Pressure&quot;: 1008, &quot;Temp_Avg&quot;: &quot;28.73 Celcius&quot;, &quot;Wind_deg&quot;: 240, &quot;Wind_spd&quot;: 4.12}, &quot;type&quot;: &quot;Feature&quot;}, {&quot;bbox&quot;: [106.8451, -6.2146, 106.8451, -6.2146], &quot;geometry&quot;: {&quot;coordinates&quot;: [106.8451, -6.2146], &quot;type&quot;: &quot;Point&quot;}, &quot;id&quot;: &quot;3&quot;, &quot;properties&quot;: {&quot;City&quot;: &quot;Jakarta&quot;, &quot;Cloud&quot;: &quot;75 %&quot;, &quot;Date&quot;: &quot;2023-12-29 17:40:23&quot;, &quot;Humidity&quot;: &quot;94 %&quot;, &quot;Lat&quot;: -6.2146, &quot;Long&quot;: 106.8451, &quot;Pressure&quot;: 1008, &quot;Temp_Avg&quot;: &quot;28.73 Celcius&quot;, &quot;Wind_deg&quot;: 240, &quot;Wind_spd&quot;: 7.72}, &quot;type&quot;: &quot;Feature&quot;}, {&quot;bbox&quot;: [106.8451, -6.2146, 106.8451, -6.2146], &quot;geometry&quot;: {&quot;coordinates&quot;: [106.8451, -6.2146], &quot;type&quot;: &quot;Point&quot;}, &quot;id&quot;: &quot;4&quot;, &quot;properties&quot;: {&quot;City&quot;: &quot;Jakarta&quot;, &quot;Cloud&quot;: &quot;73 %&quot;, &quot;Date&quot;: &quot;2023-12-29 12:56:33&quot;, &quot;Humidity&quot;: &quot;100 %&quot;, &quot;Lat&quot;: -6.2146, &quot;Long&quot;: 106.8451, &quot;Pressure&quot;: 1005, &quot;Temp_Avg&quot;: &quot;33.49 Celcius&quot;, &quot;Wind_deg&quot;: 20, &quot;Wind_spd&quot;: 3.86}, &quot;type&quot;: &quot;Feature&quot;}, {&quot;bbox&quot;: [106.8451, -6.2146, 106.8451, -6.2146], &quot;geometry&quot;: {&quot;coordinates&quot;: [106.8451, -6.2146], &quot;type&quot;: &quot;Point&quot;}, &quot;id&quot;: &quot;5&quot;, &quot;properties&quot;: {&quot;City&quot;: &quot;Jakarta&quot;, &quot;Cloud&quot;: &quot;40 %&quot;, &quot;Date&quot;: &quot;2023-12-28 15:57:26&quot;, &quot;Humidity&quot;: &quot;77 %&quot;, &quot;Lat&quot;: -6.2146, &quot;Long&quot;: 106.8451, &quot;Pressure&quot;: 1006, &quot;Temp_Avg&quot;: &quot;32.12 Celcius&quot;, &quot;Wind_deg&quot;: 20, &quot;Wind_spd&quot;: 5.14}, &quot;type&quot;: &quot;Feature&quot;}, {&quot;bbox&quot;: [106.8451, -6.2146, 106.8451, -6.2146], &quot;geometry&quot;: {&quot;coordinates&quot;: [106.8451, -6.2146], &quot;type&quot;: &quot;Point&quot;}, &quot;id&quot;: &quot;6&quot;, &quot;properties&quot;: {&quot;City&quot;: &quot;Jakarta&quot;, &quot;Cloud&quot;: &quot;40 %&quot;, &quot;Date&quot;: &quot;2023-12-28 13:57:01&quot;, &quot;Humidity&quot;: &quot;70 %&quot;, &quot;Lat&quot;: -6.2146, &quot;Long&quot;: 106.8451, &quot;Pressure&quot;: 1010, &quot;Temp_Avg&quot;: &quot;32.0 Celcius&quot;, &quot;Wind_deg&quot;: 20, &quot;Wind_spd&quot;: 7.72}, &quot;type&quot;: &quot;Feature&quot;}, {&quot;bbox&quot;: [106.8451, -6.2146, 106.8451, -6.2146], &quot;geometry&quot;: {&quot;coordinates&quot;: [106.8451, -6.2146], &quot;type&quot;: &quot;Point&quot;}, &quot;id&quot;: &quot;7&quot;, &quot;properties&quot;: {&quot;City&quot;: &quot;Jakarta&quot;, &quot;Cloud&quot;: &quot;40 %&quot;, &quot;Date&quot;: &quot;2023-12-28 13:57:01&quot;, &quot;Humidity&quot;: &quot;70 %&quot;, &quot;Lat&quot;: -6.2146, &quot;Long&quot;: 106.8451, &quot;Pressure&quot;: 1010, &quot;Temp_Avg&quot;: &quot;32.0 Celcius&quot;, &quot;Wind_deg&quot;: 20, &quot;Wind_spd&quot;: 7.72}, &quot;type&quot;: &quot;Feature&quot;}, {&quot;bbox&quot;: [106.8451, -6.2146, 106.8451, -6.2146], &quot;geometry&quot;: {&quot;coordinates&quot;: [106.8451, -6.2146], &quot;type&quot;: &quot;Point&quot;}, &quot;id&quot;: &quot;8&quot;, &quot;properties&quot;: {&quot;City&quot;: &quot;Jakarta&quot;, &quot;Cloud&quot;: &quot;40 %&quot;, &quot;Date&quot;: &quot;2023-12-28 13:57:01&quot;, &quot;Humidity&quot;: &quot;70 %&quot;, &quot;Lat&quot;: -6.2146, &quot;Long&quot;: 106.8451, &quot;Pressure&quot;: 1010, &quot;Temp_Avg&quot;: &quot;32.0 Celcius&quot;, &quot;Wind_deg&quot;: 20, &quot;Wind_spd&quot;: 7.72}, &quot;type&quot;: &quot;Feature&quot;}, {&quot;bbox&quot;: [106.8451, -6.2146, 106.8451, -6.2146], &quot;geometry&quot;: {&quot;coordinates&quot;: [106.8451, -6.2146], &quot;type&quot;: &quot;Point&quot;}, &quot;id&quot;: &quot;9&quot;, &quot;properties&quot;: {&quot;City&quot;: &quot;Jakarta&quot;, &quot;Cloud&quot;: &quot;40 %&quot;, &quot;Date&quot;: &quot;2023-12-28 13:43:33&quot;, &quot;Humidity&quot;: &quot;70 %&quot;, &quot;Lat&quot;: -6.2146, &quot;Long&quot;: 106.8451, &quot;Pressure&quot;: 1010, &quot;Temp_Avg&quot;: &quot;32.0 Celcius&quot;, &quot;Wind_deg&quot;: 20, &quot;Wind_spd&quot;: 7.72}, &quot;type&quot;: &quot;Feature&quot;}, {&quot;bbox&quot;: [106.8451, -6.2146, 106.8451, -6.2146], &quot;geometry&quot;: {&quot;coordinates&quot;: [106.8451, -6.2146], &quot;type&quot;: &quot;Point&quot;}, &quot;id&quot;: &quot;10&quot;, &quot;properties&quot;: {&quot;City&quot;: &quot;Jakarta&quot;, &quot;Cloud&quot;: &quot;40 %&quot;, &quot;Date&quot;: &quot;2023-12-28 13:35:35&quot;, &quot;Humidity&quot;: &quot;77 %&quot;, &quot;Lat&quot;: -6.2146, &quot;Long&quot;: 106.8451, &quot;Pressure&quot;: 1008, &quot;Temp_Avg&quot;: &quot;34.1 Celcius&quot;, &quot;Wind_deg&quot;: 30, &quot;Wind_spd&quot;: 5.14}, &quot;type&quot;: &quot;Feature&quot;}, {&quot;bbox&quot;: [106.8451, -6.2146, 106.8451, -6.2146], &quot;geometry&quot;: {&quot;coordinates&quot;: [106.8451, -6.2146], &quot;type&quot;: &quot;Point&quot;}, &quot;id&quot;: &quot;11&quot;, &quot;properties&quot;: {&quot;City&quot;: &quot;Jakarta&quot;, &quot;Cloud&quot;: &quot;40 %&quot;, &quot;Date&quot;: &quot;2023-12-28 13:25:12&quot;, &quot;Humidity&quot;: &quot;77 %&quot;, &quot;Lat&quot;: -6.2146, &quot;Long&quot;: 106.8451, &quot;Pressure&quot;: 1009, &quot;Temp_Avg&quot;: &quot;33.25 Celcius&quot;, &quot;Wind_deg&quot;: 30, &quot;Wind_spd&quot;: 5.14}, &quot;type&quot;: &quot;Feature&quot;}, {&quot;bbox&quot;: [106.8451, -6.2146, 106.8451, -6.2146], &quot;geometry&quot;: {&quot;coordinates&quot;: [106.8451, -6.2146], &quot;type&quot;: &quot;Point&quot;}, &quot;id&quot;: &quot;12&quot;, &quot;properties&quot;: {&quot;City&quot;: &quot;Jakarta&quot;, &quot;Cloud&quot;: &quot;40 %&quot;, &quot;Date&quot;: &quot;2023-12-28 13:15:02&quot;, &quot;Humidity&quot;: &quot;69 %&quot;, &quot;Lat&quot;: -6.2146, &quot;Long&quot;: 106.8451, &quot;Pressure&quot;: 1009, &quot;Temp_Avg&quot;: &quot;33.6 Celcius&quot;, &quot;Wind_deg&quot;: 30, &quot;Wind_spd&quot;: 5.14}, &quot;type&quot;: &quot;Feature&quot;}, {&quot;bbox&quot;: [106.8451, -6.2146, 106.8451, -6.2146], &quot;geometry&quot;: {&quot;coordinates&quot;: [106.8451, -6.2146], &quot;type&quot;: &quot;Point&quot;}, &quot;id&quot;: &quot;13&quot;, &quot;properties&quot;: {&quot;City&quot;: &quot;Jakarta&quot;, &quot;Cloud&quot;: &quot;40 %&quot;, &quot;Date&quot;: &quot;2023-12-28 12:43:08&quot;, &quot;Humidity&quot;: &quot;70 %&quot;, &quot;Lat&quot;: -6.2146, &quot;Long&quot;: 106.8451, &quot;Pressure&quot;: 1009, &quot;Temp_Avg&quot;: &quot;34.29 Celcius&quot;, &quot;Wind_deg&quot;: 70, &quot;Wind_spd&quot;: 5.14}, &quot;type&quot;: &quot;Feature&quot;}, {&quot;bbox&quot;: [106.8451, -6.2146, 106.8451, -6.2146], &quot;geometry&quot;: {&quot;coordinates&quot;: [106.8451, -6.2146], &quot;type&quot;: &quot;Point&quot;}, &quot;id&quot;: &quot;14&quot;, &quot;properties&quot;: {&quot;City&quot;: &quot;Jakarta&quot;, &quot;Cloud&quot;: &quot;40 %&quot;, &quot;Date&quot;: &quot;2023-12-28 10:57:52&quot;, &quot;Humidity&quot;: &quot;72 %&quot;, &quot;Lat&quot;: -6.2146, &quot;Long&quot;: 106.8451, &quot;Pressure&quot;: 1010, &quot;Temp_Avg&quot;: &quot;33.33 Celcius&quot;, &quot;Wind_deg&quot;: 310, &quot;Wind_spd&quot;: 1.54}, &quot;type&quot;: &quot;Feature&quot;}, {&quot;bbox&quot;: [106.8451, -6.2146, 106.8451, -6.2146], &quot;geometry&quot;: {&quot;coordinates&quot;: [106.8451, -6.2146], &quot;type&quot;: &quot;Point&quot;}, &quot;id&quot;: &quot;15&quot;, &quot;properties&quot;: {&quot;City&quot;: &quot;Jakarta&quot;, &quot;Cloud&quot;: &quot;75 %&quot;, &quot;Date&quot;: &quot;2023-12-27 15:20:27&quot;, &quot;Humidity&quot;: &quot;68 %&quot;, &quot;Lat&quot;: -6.2146, &quot;Long&quot;: 106.8451, &quot;Pressure&quot;: 1009, &quot;Temp_Avg&quot;: &quot;31.53 Celcius&quot;, &quot;Wind_deg&quot;: 360, &quot;Wind_spd&quot;: 3.09}, &quot;type&quot;: &quot;Feature&quot;}], &quot;type&quot;: &quot;FeatureCollection&quot;});\n",
       "\n",
       "        \n",
       "    \n",
       "    geo_json_c2d31ae1d64828bfc72cece98bcb5891.bindTooltip(\n",
       "    function(layer){\n",
       "    let div = L.DomUtil.create(&#x27;div&#x27;);\n",
       "    \n",
       "    let handleObject = feature=&gt;typeof(feature)==&#x27;object&#x27; ? JSON.stringify(feature) : feature;\n",
       "    let fields = [&quot;Date&quot;, &quot;City&quot;, &quot;Temp_Avg&quot;, &quot;Pressure&quot;, &quot;Humidity&quot;, &quot;Wind_spd&quot;, &quot;Wind_deg&quot;, &quot;Cloud&quot;, &quot;Long&quot;, &quot;Lat&quot;];\n",
       "    let aliases = [&quot;Date&quot;, &quot;City&quot;, &quot;Temp_Avg&quot;, &quot;Pressure&quot;, &quot;Humidity&quot;, &quot;Wind_spd&quot;, &quot;Wind_deg&quot;, &quot;Cloud&quot;, &quot;Long&quot;, &quot;Lat&quot;];\n",
       "    let table = &#x27;&lt;table&gt;&#x27; +\n",
       "        String(\n",
       "        fields.map(\n",
       "        (v,i)=&gt;\n",
       "        `&lt;tr&gt;\n",
       "            &lt;th&gt;${aliases[i]}&lt;/th&gt;\n",
       "            \n",
       "            &lt;td&gt;${handleObject(layer.feature.properties[v])}&lt;/td&gt;\n",
       "        &lt;/tr&gt;`).join(&#x27;&#x27;))\n",
       "    +&#x27;&lt;/table&gt;&#x27;;\n",
       "    div.innerHTML=table;\n",
       "    \n",
       "    return div\n",
       "    }\n",
       "    ,{&quot;className&quot;: &quot;foliumtooltip&quot;, &quot;sticky&quot;: true});\n",
       "                     \n",
       "    \n",
       "            geo_json_c2d31ae1d64828bfc72cece98bcb5891.addTo(map_19765dd29669984dafb31f0695ee05b2);\n",
       "        \n",
       "&lt;/script&gt;\n",
       "&lt;/html&gt;\" style=\"position:absolute;width:100%;height:100%;left:0;top:0;border:none !important;\" allowfullscreen webkitallowfullscreen mozallowfullscreen></iframe></div></div>"
      ],
      "text/plain": [
       "<folium.folium.Map at 0x26ef13fa900>"
      ]
     },
     "execution_count": 10,
     "metadata": {},
     "output_type": "execute_result"
    }
   ],
   "source": [
    "# Define CRS\n",
    "CRS = {'init':'epsg:4326'}\n",
    "\n",
    "# Plotting coordinate with geopandas\n",
    "print('Plotting with coordinate')\n",
    "Dataset['geometry'] = gpd.points_from_xy(Dataset['Long'], Dataset['Lat'])\n",
    "GeoDataset = gpd.GeoDataFrame(Dataset, crs=crs, geometry=Dataset['geometry'])\n",
    "GeoDataset['Date'] = GeoDataset['Date'].dt.strftime(\"%Y-%m-%d %H:%M:%S\")\n",
    "GeoDataset.explore()"
   ]
  },
  {
   "cell_type": "markdown",
   "metadata": {},
   "source": [
    "### Filtering dataset for specific city/location"
   ]
  },
  {
   "cell_type": "code",
   "execution_count": 11,
   "metadata": {},
   "outputs": [
    {
     "name": "stdout",
     "output_type": "stream",
     "text": [
      "Processing Data.\n"
     ]
    }
   ],
   "source": [
    "## Code to input desired city\n",
    "# Filter_City = input('Input a City: ')\n",
    "Filter_City = 'Jakarta' #Default filtered city is Jakarta\n",
    "Dataset_Filtered = Dataset[Dataset['City'] == Filter_City]\n",
    "\n",
    "if Dataset_Filtered.empty:\n",
    "    # Print console if dataset is empty\n",
    "    print(\"Data not available.\")\n",
    "\n",
    "else:\n",
    "    print(\"Processing Data.\")\n",
    "    # Cleansing data to dd-mm-yy format\n",
    "    Dataset_Filtered['Date'] = Dataset_Filtered['Date'].dt.strftime('%d-%m-%Y')\n",
    "\n",
    "    # Removing Geometry data if available\n",
    "    if 'geometry' in Dataset_Filtered.columns:\n",
    "        Dataset_Filtered = pd.DataFrame(Dataset_Filtered.drop(columns='geometry'))\n",
    "\n",
    "    # Removing city column because its object that cannot use by .mean()\n",
    "    if 'City' in Dataset_Filtered.columns:\n",
    "        Dataset_Filtered = pd.DataFrame(Dataset_Filtered.drop(columns='City'))\n",
    "\n",
    "    # Converting the object data value to numeric value\n",
    "    convert_columns = ['Temp_Avg', 'Humidity', 'Cloud']\n",
    "    for column in convert_columns:\n",
    "        Dataset_Filtered[column] = Dataset_Filtered[column].astype(str).str.extract(r'(\\d+\\.\\d+)').astype(float)\n",
    "\n",
    "    # Averaging data by date\n",
    "    Filtered_Date = Dataset_Filtered.groupby('Date').mean().reset_index()\n",
    "\n",
    "    numeric_columns = ['Temp_Avg', 'Pressure', 'Humidity', 'Wind_spd', 'Wind_deg', 'Cloud']\n",
    "    Filtered_Date[numeric_columns] = Filtered_Date[numeric_columns].round(2)\n",
    "\n",
    "    ## Averaging data by Hour\n",
    "    # Filtered_Hour = Dataset_Filtered.groupby([Dataset_Filtered['time'].dt.hour]).mean().reset_index()\n",
    "\n",
    "    # Adding city data by filtered city\n",
    "    Dataset_Filtered['City'] = Filter_City\n",
    "    print('Done.')"
   ]
  },
  {
   "cell_type": "markdown",
   "metadata": {},
   "source": [
    "### Plotting by date with Temperature, Humidity, Pressure, and Cloud Visibility"
   ]
  },
  {
   "cell_type": "code",
   "execution_count": 12,
   "metadata": {},
   "outputs": [
    {
     "name": "stdout",
     "output_type": "stream",
     "text": [
      "Visualizing Data.\n"
     ]
    },
    {
     "data": {
      "image/png": "[encoded data removed]",
      "text/plain": [
       "<Figure size 1000x600 with 2 Axes>"
      ]
     },
     "metadata": {},
     "output_type": "display_data"
    }
   ],
   "source": [
    "print(\"Visualizing Data.\")\n",
    "fig, (ax1, ax2) = plt.subplots(2, 1, figsize=(10,6))\n",
    "plt.subplots_adjust(left=0.1, right=0.9, bottom=0.1, top=0.9, wspace=0.2, hspace=0.4)\n",
    "fig.suptitle(f'Temperature in {Filter_City}')\n",
    "\n",
    "# Define data to plotting\n",
    "ax1.plot(Filtered_Date['Date'],\n",
    "        Filtered_Date['Temp_Avg'], 'o-')\n",
    "\n",
    "# ax2.plot(Filtered_Hour['Date'],\n",
    "#         Filtered_Hour['Temp_Avg'], '.-')\n",
    "\n",
    "# Configure the label and title figure\n",
    "ax1.set(ylabel=r'Temperature ($^\\circ$C)',\n",
    "       )\n",
    "ax1.set_title('Day')\n",
    "\n",
    "ax2.set(xlabel='Date',\n",
    "       ylabel=r'Temperature ($^\\circ$C)',\n",
    "       )\n",
    "ax2.set_title(\"Hour\")\n",
    "\n",
    "# Configure grid to visualize the y axis grid\n",
    "ax1.grid(which='both')\n",
    "ax1.grid(which='minor', alpha=0.2, linestyle='dotted')\n",
    "ax1.grid(which='major', alpha=0.5, linestyle='dotted')\n",
    "ax1.set_ylim([10, 100])\n",
    "\n",
    "ax2.grid(which='both')\n",
    "ax2.grid(which='minor', alpha=0.2, linestyle='dotted')\n",
    "ax2.grid(which='major', alpha=0.5, linestyle='dotted')\n",
    "ax2.set_ylim([10, 100])\n",
    "print('Done.')\n",
    "\n",
    "plt.show()"
   ]
  }
 ],
 "metadata": {
  "kernelspec": {
   "display_name": "Python 3",
   "language": "python",
   "name": "python3"
  },
  "language_info": {
   "codemirror_mode": {
    "name": "ipython",
    "version": 3
   },
   "file_extension": ".py",
   "mimetype": "text/x-python",
   "name": "python",
   "nbconvert_exporter": "python",
   "pygments_lexer": "ipython3",
   "version": "3.12.1"
  }
 },
 "nbformat": 4,
 "nbformat_minor": 2
}
